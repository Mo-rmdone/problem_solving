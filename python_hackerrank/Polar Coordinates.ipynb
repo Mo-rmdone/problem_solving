{
 "cells": [
  {
   "cell_type": "markdown",
   "id": "76d40ca7",
   "metadata": {},
   "source": [
    "Polar coordinates are an alternative way of representing Cartesian coordinates or Complex Numbers.\n",
    "\n",
    "A complex number $z$ \n",
    "\n",
    "$$z  = x+yi$$\n",
    "\n",
    "is completely determined by its real part **$x$** and imaginary part**$y$** .\n",
    "\n",
    "Here, $i$  is the imaginary unit.\n",
    "\n",
    "\n",
    "<img scr=\"img1.png\"/> \n",
    "\n",
    "\n",
    "**A  Polar coordinate ($r$ ,$\\partial$)**\n",
    "\n",
    "\n",
    "is completely determined by modulus $r$   and phase angle $\\partial$ .\n",
    "\n",
    "If we convert complex number  to its polar coordinate, we find:\n",
    "\n",
    "$r$: **Distance from  to origin, i.e**.**, $\\sqrt{x^2 + y^2 }$**\n",
    "\n",
    "$\\partial$: **Counter clockwise angle measured from the positive -axis to the line segment that joins  to the origin**.\n",
    "\n",
    "Python's cmath module provides access to the mathematical functions for complex numbers.\n",
    "\n",
    "$cmath.phase$\n",
    "\n",
    "This tool returns the phase of complex number $z$  (also known as the argument of $z$ ).\n",
    "\n",
    "    >>> phase(complex(-1.0, 0.0))\n",
    "    \n",
    "    3.1415926535897931\n",
    "\n",
    "**abs**\n",
    "\n",
    "This tool returns the modulus (absolute value) of complex number .\n",
    "\n",
    "\n",
    "    >>> abs(complex(-1.0, 0.0))\n",
    "    \n",
    "    1.0\n",
    "    \n",
    "# Task\n",
    "    \n",
    "You are given a complex $Z$ . Your task is to convert it to polar coordinates.\n",
    "\n",
    "## Input Format\n",
    "\n",
    "A single line containing the complex number $z$. Note: complex() function can be used in python to convert the input as a \n",
    "\n",
    "complex number.\n",
    "\n",
    "## Constraints\n",
    "\n",
    "Given number is a valid complex number\n",
    "\n",
    "### Output Format\n",
    "\n",
    "Output two lines **:**\n",
    "\n",
    "The first line should contain the value of $r$.\n",
    "\n",
    "The second line should contain the value of$\\partial$ .\n",
    "\n",
    "### Sample Input\n",
    "\n",
    "***1+2j***\n",
    "  \n",
    "### Sample Output\n",
    "\n",
    " ***2.23606797749979*** \n",
    " \n",
    " ***1.1071487177940904***\n",
    " \n",
    "**Note**: The output should be correct up to 3 decimal places.\n",
    "\n"
   ]
  },
  {
   "cell_type": "code",
   "execution_count": 3,
   "id": "ef46c36d",
   "metadata": {},
   "outputs": [
    {
     "name": "stdout",
     "output_type": "stream",
     "text": [
      "  1+2j\n",
      "2.23606797749979\n",
      "1.1071487177940904\n"
     ]
    }
   ],
   "source": [
    "import cmath\n",
    "\n",
    "r = complex(input().strip())\n",
    "\n",
    "print(cmath.polar(r)[0])\n",
    "print(cmath.polar(r)[1])\n"
   ]
  }
 ],
 "metadata": {
  "kernelspec": {
   "display_name": "Python 3",
   "language": "python",
   "name": "python3"
  },
  "language_info": {
   "codemirror_mode": {
    "name": "ipython",
    "version": 3
   },
   "file_extension": ".py",
   "mimetype": "text/x-python",
   "name": "python",
   "nbconvert_exporter": "python",
   "pygments_lexer": "ipython3",
   "version": "3.8.8"
  }
 },
 "nbformat": 4,
 "nbformat_minor": 5
}
