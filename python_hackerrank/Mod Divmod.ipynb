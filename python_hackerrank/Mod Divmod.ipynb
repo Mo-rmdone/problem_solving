{
 "cells": [
  {
   "cell_type": "markdown",
   "id": "73c45815",
   "metadata": {},
   "source": [
    "One of the built-in functions of Python is divmod, which takes two arguments $a$ and  and $b$ returns a tuple containing the quotient of **a/b** first and then the remainder **a**.\n",
    "\n",
    "**For example:**\n",
    "\n",
    "    >>> print divmod(177,10)\n",
    "    \n",
    "    (17, 7)\n",
    "    \n",
    "Here, the integer division is 177/10 => 17 and the modulo operator is 177%10 => 7.\n",
    "\n",
    "# Task\n",
    "\n",
    "Read in two integers, **a** and **b**, and print three lines.\n",
    "\n",
    "The first line is the integer division **a//b**  (While using Python2 remember to import division from __future__).\n",
    "\n",
    "The second line is the result of the modulo operator:**a%b** .\n",
    "\n",
    "The third line prints the divmod of **a** and **b** .\n",
    "\n",
    "## Input Format\n",
    "\n",
    "The first line contains the first integer, , and the second line contains the second integer, .\n",
    "\n",
    "## Output Format\n",
    "\n",
    "Print the result as described above.\n",
    "\n",
    "### Sample Input\n",
    "\n",
    "177\n",
    "\n",
    "10\n",
    "\n",
    "### Sample Output\n",
    "\n",
    "17\n",
    "\n",
    "7\n",
    "\n",
    "(17, 7)\n"
   ]
  },
  {
   "cell_type": "code",
   "execution_count": null,
   "id": "cdf7a04d",
   "metadata": {},
   "outputs": [],
   "source": [
    "a,b = int(input()),int(input())\n",
    "print(a//b)\n",
    "print(a%b)\n",
    "print(divmod(a,b))"
   ]
  }
 ],
 "metadata": {
  "kernelspec": {
   "display_name": "Python 3",
   "language": "python",
   "name": "python3"
  },
  "language_info": {
   "codemirror_mode": {
    "name": "ipython",
    "version": 3
   },
   "file_extension": ".py",
   "mimetype": "text/x-python",
   "name": "python",
   "nbconvert_exporter": "python",
   "pygments_lexer": "ipython3",
   "version": "3.8.8"
  }
 },
 "nbformat": 4,
 "nbformat_minor": 5
}
