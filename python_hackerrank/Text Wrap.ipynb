{
 "cells": [
  {
   "cell_type": "markdown",
   "id": "3e7d27cc",
   "metadata": {},
   "source": [
    "\n",
    "You are given a string ***S*** and width ***W*** .\n",
    "\n",
    "Your task is to wrap the string into a paragraph of width ***W*** .\n",
    "\n",
    "# Function Description\n",
    "\n",
    "Complete the wrap function in the editor below.\n",
    "\n",
    "wrap has the following parameters:\n",
    "\n",
    "- string string: a long string \n",
    "  \n",
    "  \n",
    "- int max_width: the width to wrap to\n",
    "\n",
    "**Returns**\n",
    "\n",
    "- string: a single string with newline characters ('\\n') where the breaks should be\n",
    "\n",
    "\n",
    "## Input Format\n",
    "\n",
    "The first line contains a string, ***S***.\n",
    "\n",
    "The second line contains the width, max_width  .\n",
    "\n",
    "### Sample Input 0\n",
    "\n",
    "ABCDEFGHIJKLIMNOQRSTUVWXYZ \n",
    "\n",
    "4\n",
    "\n",
    "### Sample Output 0\n",
    "\n",
    "ABCD\n",
    "\n",
    "EFGH\n",
    "\n",
    "IJKL\n",
    "\n",
    "IMNO\n",
    "\n",
    "QRST\n",
    "\n",
    "UVWX\n",
    "\n",
    "YZ\n"
   ]
  },
  {
   "cell_type": "code",
   "execution_count": 1,
   "id": "3eb6475b",
   "metadata": {},
   "outputs": [],
   "source": [
    "def wrap(string, max_width):\n",
    "    \n",
    "   return textwrap.fill(string,max_width)"
   ]
  }
 ],
 "metadata": {
  "kernelspec": {
   "display_name": "Python 3",
   "language": "python",
   "name": "python3"
  },
  "language_info": {
   "codemirror_mode": {
    "name": "ipython",
    "version": 3
   },
   "file_extension": ".py",
   "mimetype": "text/x-python",
   "name": "python",
   "nbconvert_exporter": "python",
   "pygments_lexer": "ipython3",
   "version": "3.8.8"
  }
 },
 "nbformat": 4,
 "nbformat_minor": 5
}
