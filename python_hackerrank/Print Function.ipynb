{
 "cells": [
  {
   "cell_type": "markdown",
   "id": "1f92b4f5",
   "metadata": {},
   "source": [
    "# Task :\n",
    "<br><br>\n",
    "The included code stub will read an integer,n , from STDIN.\n",
    "\n",
    "Without using any string methods, try to print the following:\n",
    "\n",
    "123...  n\n",
    "\n",
    "\n",
    "**Note** that \"...\" represents the consecutive values in between.\n",
    "\n",
    "\n",
    "## Example\n",
    "\n",
    "n = 5\n",
    "print 12345\n",
    "\n",
    "\n",
    "## Input Format\n",
    "\n",
    "The first line contains an integer  n .\n",
    "\n",
    "\n",
    "\n",
    "## Output Format\n",
    "\n",
    "Print the list of integers from 1 through n as a string, without spaces.\n",
    "\n",
    "### Sample Input 0\n",
    "\n",
    "3\n",
    "\n",
    "\n",
    "### Sample output 0\n",
    "\n",
    "123"
   ]
  },
  {
   "cell_type": "code",
   "execution_count": 1,
   "id": "650d5ce3",
   "metadata": {},
   "outputs": [
    {
     "name": "stdout",
     "output_type": "stream",
     "text": [
      "5\n",
      "12345"
     ]
    }
   ],
   "source": [
    "    n = int(input())\n",
    "  \n",
    "    for x in range (1, n+1) :\n",
    "       print(x,end=\"\")"
   ]
  }
 ],
 "metadata": {
  "kernelspec": {
   "display_name": "Python 3",
   "language": "python",
   "name": "python3"
  },
  "language_info": {
   "codemirror_mode": {
    "name": "ipython",
    "version": 3
   },
   "file_extension": ".py",
   "mimetype": "text/x-python",
   "name": "python",
   "nbconvert_exporter": "python",
   "pygments_lexer": "ipython3",
   "version": "3.8.8"
  }
 },
 "nbformat": 4,
 "nbformat_minor": 5
}
