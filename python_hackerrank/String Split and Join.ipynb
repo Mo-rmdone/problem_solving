{
 "cells": [
  {
   "cell_type": "markdown",
   "id": "7b40c727",
   "metadata": {},
   "source": [
    "***In Python, a string can be split on a delimiter.***\n",
    "\n",
    "**Example:**\n",
    "\n",
    ".>>> a = \"this is a string\"\n",
    "\n",
    ".>>> a = a.split(\" \") # a is converted to a list of strings. \n",
    "\n",
    ".>>> print a\n",
    "['this', 'is', 'a', 'string']\n",
    "\n",
    "***Joining a string is simple:***\n",
    "\n",
    ".>>> a = \"-\".join(a)\n",
    ".>>> print a\n",
    "this-is-a-string \n",
    "\n",
    "# Task\n",
    "\n",
    "You are given a string. Split the string on a \" \" (space) delimiter and join using a - hyphen.\n",
    "\n",
    "## Function Description\n",
    "\n",
    "Complete the split_and_join function in the editor below.\n",
    "\n",
    "split_and_join has the following parameters:\n",
    "\n",
    "- string line: a string of space-separated words\n",
    "\n",
    "Returns\n",
    "\n",
    "- string: the resulting string\n",
    "\n",
    "## Input Format\n",
    "\n",
    "\n",
    "The one line contains a string consisting of space separated words.\n",
    "\n",
    "\n",
    "### Sample Input\n",
    "\n",
    "\n",
    "this is a string   \n",
    "\n",
    "\n",
    "### Sample Output\n",
    "\n",
    "\n",
    "this-is-a-string"
   ]
  },
  {
   "cell_type": "code",
   "execution_count": null,
   "id": "ddea7441",
   "metadata": {},
   "outputs": [],
   "source": [
    "def split_and_join(line):\n",
    "    \n",
    "    str = line.split(\" \")\n",
    "    a = \"-\".join(str)\n",
    "    return(a)\n"
   ]
  }
 ],
 "metadata": {
  "kernelspec": {
   "display_name": "Python 3",
   "language": "python",
   "name": "python3"
  },
  "language_info": {
   "codemirror_mode": {
    "name": "ipython",
    "version": 3
   },
   "file_extension": ".py",
   "mimetype": "text/x-python",
   "name": "python",
   "nbconvert_exporter": "python",
   "pygments_lexer": "ipython3",
   "version": "3.8.8"
  }
 },
 "nbformat": 4,
 "nbformat_minor": 5
}
