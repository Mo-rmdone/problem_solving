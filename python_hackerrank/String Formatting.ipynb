{
 "cells": [
  {
   "cell_type": "markdown",
   "id": "7a31a284",
   "metadata": {},
   "source": [
    "Given an integer, n , print the following values for each integer ***i*** from ***1*** to ***n*** :\n",
    "\n",
    "1. Decimal\n",
    "\n",
    "2. Octal\n",
    "\n",
    "3. Hexadecimal (capitalized)\n",
    "\n",
    "4. Binary\n",
    "\n",
    "# Function Description\n",
    "\n",
    "Complete the print_formatted function in the editor below.\n",
    "\n",
    "print_formatted has the following parameters:\n",
    "\n",
    "- int number: the maximum value to print\n",
    "\n",
    "**Prints**\n",
    "\n",
    "The four values must be printed on a single line in the order specified above for each ***i*** from ***1*** to ***numbers*** .\n",
    "\n",
    "Each value should be space-padded to match the width of the binary value of ***numbers***  and the values should be separated \n",
    "\n",
    "  by a single space.\n",
    "\n",
    "\n",
    "## Sample Input\n",
    "\n",
    "\n",
    "17\n",
    "\n",
    "\n",
    "## Sample Output\n",
    "\n",
    "    1     1     1     1\n",
    "    2     2     2    10\n",
    "    3     3     3    11\n",
    "    4     4     4   100\n",
    "    5     5     5   101\n",
    "    6     6     6   110\n",
    "    7     7     7   111\n",
    "    8    10     8  1000\n",
    "    9    11     9  1001\n",
    "    10    12     A  1010\n",
    "    11    13     B  1011\n",
    "    12    14     C  1100\n",
    "    13    15     D  1101\n",
    "    14    16     E  1110\n",
    "    15    17     F  1111\n",
    "    16    20    10 10000\n",
    "    17    21    11 10001\n"
   ]
  },
  {
   "cell_type": "code",
   "execution_count": 1,
   "id": "f7d848d0",
   "metadata": {},
   "outputs": [],
   "source": [
    "def print_formatted(number):\n",
    "    result=[]\n",
    "    \n",
    "    for i in range(1,number+1):\n",
    "        str_=str(i)\n",
    "        oct_=oct(i)[2:]\n",
    "        hex_=hex(i)[2:].upper()\n",
    "        bin_=bin(i)[2:]\n",
    "        result.append([str_,oct_,hex_,bin_])\n",
    "    \n",
    "    width=len(result[-1][3])\n",
    "    \n",
    "    for i in result:\n",
    "        print(*(num.rjust(width) for num in i))\n"
   ]
  },
  {
   "cell_type": "code",
   "execution_count": null,
   "id": "5a2b80cd",
   "metadata": {},
   "outputs": [],
   "source": []
  }
 ],
 "metadata": {
  "kernelspec": {
   "display_name": "Python 3",
   "language": "python",
   "name": "python3"
  },
  "language_info": {
   "codemirror_mode": {
    "name": "ipython",
    "version": 3
   },
   "file_extension": ".py",
   "mimetype": "text/x-python",
   "name": "python",
   "nbconvert_exporter": "python",
   "pygments_lexer": "ipython3",
   "version": "3.8.8"
  }
 },
 "nbformat": 4,
 "nbformat_minor": 5
}
