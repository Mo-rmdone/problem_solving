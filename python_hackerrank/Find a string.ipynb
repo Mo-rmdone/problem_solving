{
 "cells": [
  {
   "cell_type": "markdown",
   "id": "aaaa0c15",
   "metadata": {},
   "source": [
    "# Task\n",
    "\n",
    "In this challenge, the user enters a string and a substring. You have to print the number of times that the substring occurs in the given string. String traversal will take place from left to right, not from right to left.\n",
    "\n",
    "***NOTE***: String letters are case-sensitive.\n",
    "\n",
    "## Input Format\n",
    "\n",
    "The first line of input contains the original string. The next line contains the substring.\n",
    "\n",
    "## Output Format\n",
    "\n",
    "Output the integer number indicating the total number of occurrences of the substring in the original string.\n",
    "\n",
    "### Sample Input\n",
    "\n",
    "ABCDCDC\n",
    "\n",
    "CDC\n",
    "\n",
    "### Sample Output\n",
    "\n",
    "2\n",
    "\n",
    "\n",
    "#### ***Concept***\n",
    "\n",
    "Some string processing examples, such as these, might be useful.\n",
    "\n",
    "There are a couple of new concepts:\n",
    "\n",
    "In Python, the length of a string is found by the function len(s), where ***s***  is the string.\n",
    "\n",
    "To traverse through the length of a string, use a for loop:\n",
    "\n",
    "for i in range(0, len(s)):\n",
    "\n",
    "    print (s[i])\n",
    "    \n",
    "A range function is used to loop over some length:\n",
    "\n",
    "range (0, 5)\n",
    "\n",
    "Here, the range loops over ***0***  to ***4*** .***5***  is excluded."
   ]
  },
  {
   "cell_type": "code",
   "execution_count": null,
   "id": "94e6c8a6",
   "metadata": {},
   "outputs": [],
   "source": [
    "def count_substring(string, sub_string):\n",
    "    count = 0\n",
    "    for i in range(len(string)):\n",
    "        if string[i:].startswith(sub_string):\n",
    "            count += 1\n",
    "    return count"
   ]
  }
 ],
 "metadata": {
  "kernelspec": {
   "display_name": "Python 3",
   "language": "python",
   "name": "python3"
  },
  "language_info": {
   "codemirror_mode": {
    "name": "ipython",
    "version": 3
   },
   "file_extension": ".py",
   "mimetype": "text/x-python",
   "name": "python",
   "nbconvert_exporter": "python",
   "pygments_lexer": "ipython3",
   "version": "3.8.8"
  }
 },
 "nbformat": 4,
 "nbformat_minor": 5
}
