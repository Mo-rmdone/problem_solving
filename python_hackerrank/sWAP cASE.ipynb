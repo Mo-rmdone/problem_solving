{
 "cells": [
  {
   "cell_type": "markdown",
   "id": "b86cde65",
   "metadata": {},
   "source": [
    "# Task\n",
    "\n",
    "You are given a string and your task is to swap cases. In other words, convert all lowercase letters to uppercase letters and vice versa.\n",
    "\n",
    "***For Example:***\n",
    "\n",
    "\n",
    "Www.HackerRank.com  →  wWW.hACKERrANK.COM\n",
    "\n",
    "Pythonist 2 → pYTHONIST 2   \n",
    "\n",
    "\n",
    "## Function Description\n",
    "\n",
    "Complete the swap_case function in the editor below.\n",
    "\n",
    "swap_case has the following parameters:\n",
    "\n",
    "- string s: the string to modify\n",
    "\n",
    "**Returns**\n",
    "\n",
    "- string: the modified string\n",
    "\n",
    "## Input Format\n",
    "\n",
    "A single line containing a string s .\n",
    "\n",
    "### Sample Input 0\n",
    "\n",
    "\n",
    "HackerRank.com presents \"Pythonist 2\". \n",
    "\n",
    "\n",
    "### Sample Output 0\n",
    "\n",
    "\n",
    "hACKERrANK.COM PRESENTS \"pYTHONIST 2\"."
   ]
  },
  {
   "cell_type": "code",
   "execution_count": null,
   "id": "d76a42b1",
   "metadata": {},
   "outputs": [],
   "source": [
    "def swap_case(s):\n",
    "    return s.swapcase()"
   ]
  }
 ],
 "metadata": {
  "kernelspec": {
   "display_name": "Python 3",
   "language": "python",
   "name": "python3"
  },
  "language_info": {
   "codemirror_mode": {
    "name": "ipython",
    "version": 3
   },
   "file_extension": ".py",
   "mimetype": "text/x-python",
   "name": "python",
   "nbconvert_exporter": "python",
   "pygments_lexer": "ipython3",
   "version": "3.8.8"
  }
 },
 "nbformat": 4,
 "nbformat_minor": 5
}
