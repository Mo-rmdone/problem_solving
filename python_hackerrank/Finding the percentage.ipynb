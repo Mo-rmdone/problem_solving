{
 "cells": [
  {
   "cell_type": "markdown",
   "id": "72959ff4",
   "metadata": {},
   "source": [
    "# Task\n",
    "\n",
    "The provided code stub will read in a dictionary containing key/value pairs of name:[marks] for a list of students. Print the average of the marks array for the student name provided, showing 2 places after the decimal.\n",
    "\n",
    "## Example\n",
    "\n",
    "marks:value \n",
    "\n",
    "'a':[30,40,50]\n",
    "\n",
    "'b':[60,70,80]\n",
    "\n",
    "***query_name = 'b'***\n",
    "\n",
    "The query_name is 'b'. b's average score is (60+70+80)/3 = 70\n",
    "\n",
    "### ***Input Format***\n",
    "\n",
    "The first line contains the integer n , the number of students' records. The next n lines contain the names and marks obtained by a student , each value separated by a space. The final line contains query_name, the name of a student to query.\n",
    "\n",
    "### Output Format\n",
    "\n",
    "Print one line: The average of the marks obtained by the particular student correct to 2 decimal places.\n",
    "\n",
    "### Sample Input 0\n",
    "\n",
    "3\n",
    "\n",
    "Krishna 67 68 69\n",
    "\n",
    "Arjun 70 98 63\n",
    "\n",
    "Malika 52 56 60\n",
    "\n",
    "Malika\n",
    "\n",
    "\n",
    "### Sample Output 0\n",
    "\n",
    "56.00\n",
    "\n"
   ]
  },
  {
   "cell_type": "code",
   "execution_count": null,
   "id": "d0109886",
   "metadata": {},
   "outputs": [],
   "source": [
    "n = int(input())\n",
    "student_marks = {}\n",
    "for _ in range(n):\n",
    "    name, *line = input().split()\n",
    "    scores = list(map(float, line))\n",
    "        student_marks[name] = scores\n",
    "query_name = input()\n",
    "total_marks = sum(student_marks[query_name])/3\n",
    "print(\"%.2f\"%(total_marks))"
   ]
  }
 ],
 "metadata": {
  "kernelspec": {
   "display_name": "Python 3",
   "language": "python",
   "name": "python3"
  },
  "language_info": {
   "codemirror_mode": {
    "name": "ipython",
    "version": 3
   },
   "file_extension": ".py",
   "mimetype": "text/x-python",
   "name": "python",
   "nbconvert_exporter": "python",
   "pygments_lexer": "ipython3",
   "version": "3.8.8"
  }
 },
 "nbformat": 4,
 "nbformat_minor": 5
}
