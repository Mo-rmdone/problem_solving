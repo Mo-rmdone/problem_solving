{
 "cells": [
  {
   "cell_type": "markdown",
   "id": "7ba1d925",
   "metadata": {},
   "source": [
    "So far, we have only heard of Python's powers. Now, we will witness them!\n",
    "\n",
    "Powers or exponents in Python can be calculated using the built-in power function. Call the power function $a^b$  as shown \n",
    "\n",
    "below:\n",
    "\n",
    "    >>> pow(a,b) \n",
    "    \n",
    "    or\n",
    "\n",
    "    >>> a**b\n",
    "\n",
    "It's also possible to calculate $a^b$  **mod m**\n",
    "\n",
    "    >>> pow(a,b,m)  \n",
    "    \n",
    "This is very helpful in computations where you have to print the resultant % mod.\n",
    "\n",
    "Note: Here, **a** and **b** can be floats or negatives, but, if a third argument is present, **b** cannot be negative.\n",
    "\n",
    "Note: Python has a math module that has its own pow(). It takes two arguments and returns a float. It is uncommon to use\n",
    "\n",
    "# Task\n",
    "\n",
    "You are given three integers: **a**,**b** ,**m** and . Print two lines.\n",
    "\n",
    "On the first line, print the result of pow(a,b). On the second line, print the result of pow(a,b,m).\n",
    "\n",
    "## Input Format\n",
    "\n",
    "The first line contains **a**, the second line contains **b** , and the third line contains **b** .\n",
    "\n",
    "## Constraints\n",
    "\n",
    "**1 $\\leqslant$ a $\\leqslant$ 10**\n",
    "\n",
    "**1 $\\leqslant$ b $\\leqslant$ 10**\n",
    "\n",
    "**2 $\\leqslant$ m $\\leqslant$ 100**\n",
    "\n",
    "### Sample Input\n",
    "\n",
    "3\n",
    "\n",
    "4\n",
    "\n",
    "5\n",
    "\n",
    "### Sample Output\n",
    "\n",
    "81\n",
    "\n",
    "1"
   ]
  },
  {
   "cell_type": "code",
   "execution_count": null,
   "id": "01f83991",
   "metadata": {},
   "outputs": [
    {
     "name": "stdout",
     "output_type": "stream",
     "text": [
      "3\n",
      "4\n"
     ]
    }
   ],
   "source": [
    "import math\n",
    "a,b,m=int(input()),int(input()),int(input())\n",
    "print(a**b,pow(a,b,m),sep=\"\\n\")"
   ]
  },
  {
   "cell_type": "code",
   "execution_count": null,
   "id": "7b715f32",
   "metadata": {},
   "outputs": [],
   "source": []
  }
 ],
 "metadata": {
  "kernelspec": {
   "display_name": "Python 3",
   "language": "python",
   "name": "python3"
  },
  "language_info": {
   "codemirror_mode": {
    "name": "ipython",
    "version": 3
   },
   "file_extension": ".py",
   "mimetype": "text/x-python",
   "name": "python",
   "nbconvert_exporter": "python",
   "pygments_lexer": "ipython3",
   "version": "3.8.8"
  }
 },
 "nbformat": 4,
 "nbformat_minor": 5
}
