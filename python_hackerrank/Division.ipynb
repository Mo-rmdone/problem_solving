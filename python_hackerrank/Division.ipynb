{
 "cells": [
  {
   "cell_type": "markdown",
   "id": "e422d343",
   "metadata": {},
   "source": [
    "\n",
    "\n",
    "\n",
    "\n",
    "\n",
    "\n",
    "\n"
   ]
  },
  {
   "cell_type": "markdown",
   "id": "22d0abe9",
   "metadata": {},
   "source": [
    " # Task : Division\n",
    " \n",
    " The provided code stub reads two integers, a and b, from STDIN.\n",
    "\n",
    "Add logic to print two lines. The first line should contain the result of integer division, a // b. The second line should contain the result of float division,a  /b.\n",
    "\n",
    "No rounding or formatting is necessary.\n",
    "\n",
    "**Example**\n",
    "\n",
    "\n",
    "**a = 3**\n",
    "\n",
    "**b = 5**\n",
    "\n",
    "\n",
    "- The result of the integer division 3//5 is 0\n",
    "- The result of the float division is 3/5 = .6\n",
    "\n",
    "**Print:**\n",
    "\n",
    "0 \n",
    "\n",
    "0.6\n",
    "\n",
    "**Input Format**\n",
    "The first line contains the first integer, a .\n",
    "The second line contains the second integer,b  \n",
    "\n",
    "**Output Format :**\n",
    "\n",
    "Print the two lines as described above. \n",
    "\n",
    "**Sample Input 0**\n",
    "\n",
    "4\n",
    "\n",
    "3\n",
    "\n",
    "**Sample Output 0 **\n",
    "\n",
    "1\n",
    "\n",
    "1.33333333333\n",
    "\n",
    " \n",
    " \n",
    "\n",
    "\n"
   ]
  },
  {
   "cell_type": "code",
   "execution_count": 3,
   "id": "f6ba9209",
   "metadata": {},
   "outputs": [
    {
     "name": "stdout",
     "output_type": "stream",
     "text": [
      "1\n",
      "1.3333333333333333\n"
     ]
    }
   ],
   "source": [
    "a = 4\n",
    "b = 3\n",
    "print(a//b)\n",
    "print(a/b)\n"
   ]
  },
  {
   "cell_type": "code",
   "execution_count": null,
   "id": "2bcd7e1e",
   "metadata": {},
   "outputs": [],
   "source": []
  }
 ],
 "metadata": {
  "kernelspec": {
   "display_name": "Python 3",
   "language": "python",
   "name": "python3"
  },
  "language_info": {
   "codemirror_mode": {
    "name": "ipython",
    "version": 3
   },
   "file_extension": ".py",
   "mimetype": "text/x-python",
   "name": "python",
   "nbconvert_exporter": "python",
   "pygments_lexer": "ipython3",
   "version": "3.8.8"
  }
 },
 "nbformat": 4,
 "nbformat_minor": 5
}
