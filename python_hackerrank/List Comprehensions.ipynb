{
 "cells": [
  {
   "cell_type": "markdown",
   "id": "87bc087e",
   "metadata": {},
   "source": [
    "# TASK\n",
    "\n",
    "Let's learn about list comprehensions! You are given three integers x.y and z  representing the dimensions of a cuboid along with an integer n . Print a list of all possible coordinates given by (i,j,k) on a 3D grid where the sum of i + j + k  is not equal to n . Here, 0 < i < x , 0 < j < Y , 0 < k < Z . Please use list comprehensions rather than multiple loops, as a learning exercise.\n",
    "\n",
    "## Example \n",
    "\n",
    "x=  2\n",
    "\n",
    "y = 2\n",
    "\n",
    "z=  2\n",
    "\n",
    "n=  2\n",
    "\n",
    "All permutations of [ i, j, k] are\n",
    "\n",
    "[[0, 0, 0], [0, 0, 1], [0, 1, 0], [0, 1, 2], [0, 2, 1], [0, 2, 2], [1, 0, 0], [1, 0, 2], [1, 1, 1], [1, 1, 2], [1, 2, 0], \n",
    "[1, 2, 1], [1, 2, 2], [2, 0, 1], [2, 0, 2], [2, 1, 0], [2, 1, 1], [2, 1, 2], [2, 2, 0], [2, 2, 1], [2, 2, 2]]\n",
    "\n",
    "\n",
    "## Input Format\n",
    "\n",
    "Four integers x,y,z and n , each on a separate line.\n",
    "\n",
    "## Constraints\n",
    "\n",
    "Print the list in lexicographic increasing order.\n",
    "\n",
    "### Sample Input 0\n",
    "\n",
    "1\n",
    "1\n",
    "1\n",
    "2\n",
    "\n",
    "\n",
    "### Sample Output 0\n",
    "\n",
    "[[0, 0, 0], [0, 0, 1], [0, 1, 0], [1, 0, 0], [1, 1, 1]]\n",
    "\n",
    "\n",
    "### Sample Input 1\n",
    "\n",
    "2\n",
    "2\n",
    "2\n",
    "2\n",
    "\n",
    "### Sample Output 1\n",
    "\n",
    "[[0, 0, 0], [0, 0, 1], [0, 1, 0], [0, 1, 2], [0, 2, 1], [0, 2, 2], [1, 0, 0], [1, 0, 2], [1, 1, 1], [1, 1, 2], [1, 2, 0], \n",
    "[1, 2, 1], [1, 2, 2], [2, 0, 1], [2, 0, 2], [2, 1, 0], [2, 1, 1], [2, 1, 2], [2, 2, 0], [2, 2, 1], [2, 2, 2]]\n",
    "\n",
    "\n",
    "\n",
    "\n"
   ]
  },
  {
   "cell_type": "code",
   "execution_count": 1,
   "id": "f8a5301b",
   "metadata": {},
   "outputs": [
    {
     "name": "stdout",
     "output_type": "stream",
     "text": [
      "1\n",
      "1\n",
      "1\n",
      "2\n",
      "[[0, 0, 0], [0, 0, 1], [0, 1, 0], [1, 0, 0], [1, 1, 1]]\n"
     ]
    }
   ],
   "source": [
    "    x = int(input())\n",
    "    y = int(input())\n",
    "    z = int(input())\n",
    "    n = int(input())\n",
    "    \n",
    "    print ([[a,b,c] for a in range(x+1) for b in range(y+1) for c in range(z+1) if a + b + c != n ])"
   ]
  },
  {
   "cell_type": "code",
   "execution_count": null,
   "id": "7f1089f0",
   "metadata": {},
   "outputs": [],
   "source": []
  }
 ],
 "metadata": {
  "kernelspec": {
   "display_name": "Python 3",
   "language": "python",
   "name": "python3"
  },
  "language_info": {
   "codemirror_mode": {
    "name": "ipython",
    "version": 3
   },
   "file_extension": ".py",
   "mimetype": "text/x-python",
   "name": "python",
   "nbconvert_exporter": "python",
   "pygments_lexer": "ipython3",
   "version": "3.8.8"
  }
 },
 "nbformat": 4,
 "nbformat_minor": 5
}
