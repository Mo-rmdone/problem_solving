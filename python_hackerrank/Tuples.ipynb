{
 "cells": [
  {
   "cell_type": "markdown",
   "id": "37aa6ec4",
   "metadata": {},
   "source": [
    " # Task\n",
    " \n",
    "Given an integer, , and  space-separated integers as input, create a tuple, , of those  integers. Then compute and print the result of ***hash(t).***\n",
    "\n",
    "**Note**: hash() is one of the functions in the __builtins__ module, so it need not be imported.\n",
    "\n",
    "## Input Format\n",
    "\n",
    "The first line contains an integer, n , denoting the number of elements in the tuple.\n",
    "\n",
    "The second line contains n space-separated integers describing the elements in tuple t .\n",
    "\n",
    "## Output Format\n",
    "\n",
    "Print the result of hash() .\n",
    "\n",
    "### Sample Input0\n",
    "\n",
    "2\n",
    "\n",
    "1 2\n",
    "\n",
    "\n",
    "### Sample Output 0\n",
    "\n",
    "3713081631934410656"
   ]
  },
  {
   "cell_type": "code",
   "execution_count": null,
   "id": "a097760f",
   "metadata": {},
   "outputs": [],
   "source": [
    "n = int(input())\n",
    "    integer_list = map(int, input().split())\n",
    "    input_list = [int(x) for x in integer_list]\n",
    "    t = tuple(input_list)\n",
    "    print (hash(t))\n",
    "    "
   ]
  }
 ],
 "metadata": {
  "kernelspec": {
   "display_name": "Python 3",
   "language": "python",
   "name": "python3"
  },
  "language_info": {
   "codemirror_mode": {
    "name": "ipython",
    "version": 3
   },
   "file_extension": ".py",
   "mimetype": "text/x-python",
   "name": "python",
   "nbconvert_exporter": "python",
   "pygments_lexer": "ipython3",
   "version": "3.8.8"
  }
 },
 "nbformat": 4,
 "nbformat_minor": 5
}
