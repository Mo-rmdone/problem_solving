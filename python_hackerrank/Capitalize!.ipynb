{
 "cells": [
  {
   "cell_type": "markdown",
   "id": "861c5908",
   "metadata": {},
   "source": [
    "You are asked to ensure that the first and last names of people begin with a capital letter in their passports. For example, alison heck should be capitalised correctly as Alison Heck.\n",
    "\n",
    "   **M**ohamed  **R**amadan   **---->>**   **m**ohamed **r**amadan\n",
    "\n",
    "Given a full name, your task is to capitalize the name appropriately.\n",
    "\n",
    "## Input Format\n",
    "\n",
    "A single line of input containing the full name, **S**\n",
    "\n",
    "**Note**: in a word only the first character is capitalized. Example 12abc when capitalized remains 12abc.\n",
    "\n",
    "## Output Format\n",
    "\n",
    "Print the capitalized string, **S** .\n",
    "\n",
    "### Sample Input\n",
    "\n",
    "chris alan\n",
    "\n",
    "### Sample Output\n",
    "\n",
    "Chris Alan"
   ]
  },
  {
   "cell_type": "code",
   "execution_count": null,
   "id": "de9bb4e1",
   "metadata": {},
   "outputs": [],
   "source": [
    "def str_cap(s):\n",
    "    for x in s[:].split():\n",
    "        s = s.replace(x, x.capitalize())\n",
    "    return s"
   ]
  }
 ],
 "metadata": {
  "kernelspec": {
   "display_name": "Python 3",
   "language": "python",
   "name": "python3"
  },
  "language_info": {
   "codemirror_mode": {
    "name": "ipython",
    "version": 3
   },
   "file_extension": ".py",
   "mimetype": "text/x-python",
   "name": "python",
   "nbconvert_exporter": "python",
   "pygments_lexer": "ipython3",
   "version": "3.8.8"
  }
 },
 "nbformat": 4,
 "nbformat_minor": 5
}
