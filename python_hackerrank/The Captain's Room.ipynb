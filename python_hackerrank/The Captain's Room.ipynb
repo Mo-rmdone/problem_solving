{
 "cells": [
  {
   "cell_type": "markdown",
   "id": "b168feac",
   "metadata": {},
   "source": [
    "# The Captain's Room\n",
    " \n",
    " Mr. Anant Asankhya is the manager at the INFINITE hotel. The hotel has an infinite amount of rooms.\n",
    "\n",
    "One fine day, a finite number of tourists come to stay at the hotel.\n",
    "\n",
    "The tourists consist of:\n",
    "\n",
    "→ A Captain.\n",
    "\n",
    " An unknown group of families consisting of $K$  members per group where  $K$ ≠1 .\n",
    " \n",
    " <br>  \n",
    "\n",
    "    \n",
    "The Captain was given a separate room, and the rest were given one room per group.\n",
    "    \n",
    "Mr. Anant has an unordered list of randomly arranged room entries. The list consists of the room numbers for all of the \n",
    "    \n",
    "tourists. The room numbers will appear  $K$  times per group except for the Captain's room.\n",
    "    \n",
    "Mr. Anant needs you to help him find the Captain's room number.\n",
    "    \n",
    "The total number of tourists or the total number of groups of families is not known to you.\n",
    "    \n",
    "<br> \n",
    "    \n",
    "\n",
    "You only know the value of  $K$ and the room number list.\n",
    "\n",
    "\n",
    "\n",
    "## Input Format\n",
    "\n",
    "The first line consists of an integer, $K$ , the size of each group.\n",
    "\n",
    "The second line contains the unordered elements of the room number list.\n",
    "\n",
    "## Constraints\n",
    "\n",
    " $1 < K < 1000$\n",
    "\n",
    " ## Output Format\n",
    "\n",
    "Output the Captain's room number.\n",
    "\n",
    "### Sample Input\n",
    "\n",
    "5\n",
    "\n",
    "1 2 3 6 5 4 4 2 5 3 6 1 6 5 3 2 4 1 2 5 1 4 3 6 8 4 3 1 5 6 2 \n",
    "\n",
    "### Sample Output\n",
    "\n",
    "8"
   ]
  },
  {
   "cell_type": "code",
   "execution_count": 2,
   "id": "8b81f681",
   "metadata": {},
   "outputs": [
    {
     "name": "stdout",
     "output_type": "stream",
     "text": [
      "5\n",
      "1 2 3 6 5 4 4 2 5 3 6 1 6 5 3 2 4 1 2 5 1 4 3 6 8 4 3 1 5 6 2\n",
      "8\n"
     ]
    }
   ],
   "source": [
    "k = int(input())\n",
    "lis = list(map(int, input().split()))\n",
    "set_ = set(lis)\n",
    "for i in set_:\n",
    "    lis.remove(i)\n",
    "    if i not in lis:\n",
    "        print(i)\n",
    "        break\n"
   ]
  },
  {
   "cell_type": "code",
   "execution_count": 3,
   "id": "e6c724d4",
   "metadata": {},
   "outputs": [
    {
     "name": "stdout",
     "output_type": "stream",
     "text": [
      "5\n",
      "1 2 3 6 5 4 4 2 5 3 6 1 6 5 3 2 4 1 2 5 1 4 3 6 8 4 3 1 5 6 2\n",
      "8\n"
     ]
    }
   ],
   "source": [
    "from collections import Counter\n",
    "\n",
    "k = input()\n",
    "c = Counter(input().strip().split())\n",
    "print(c.most_common()[-1][0])\n"
   ]
  },
  {
   "cell_type": "code",
   "execution_count": 4,
   "id": "e61cfd72",
   "metadata": {},
   "outputs": [
    {
     "name": "stdout",
     "output_type": "stream",
     "text": [
      "5\n",
      "1 2 3 6 5 4 4 2 5 3 6 1 6 5 3 2 4 1 2 5 1 4 3 6 8 4 3 1 5 6 2\n",
      "8\n"
     ]
    }
   ],
   "source": [
    "k = int(input())\n",
    "nums = list(map(int, input().split(' ')))\n",
    "counts = {}\n",
    "for n in nums:\n",
    "    if n in counts:\n",
    "        counts[n] += 1\n",
    "    else:\n",
    "        counts[n] = 1\n",
    "for n in counts:\n",
    "    if counts[n] == 1:\n",
    "        print (n)\n",
    "        break\n"
   ]
  }
 ],
 "metadata": {
  "kernelspec": {
   "display_name": "Python 3",
   "language": "python",
   "name": "python3"
  },
  "language_info": {
   "codemirror_mode": {
    "name": "ipython",
    "version": 3
   },
   "file_extension": ".py",
   "mimetype": "text/x-python",
   "name": "python",
   "nbconvert_exporter": "python",
   "pygments_lexer": "ipython3",
   "version": "3.8.8"
  }
 },
 "nbformat": 4,
 "nbformat_minor": 5
}
