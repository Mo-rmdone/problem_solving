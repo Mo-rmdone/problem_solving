{
 "cells": [
  {
   "cell_type": "markdown",
   "id": "60d011aa",
   "metadata": {},
   "source": [
    "# Task:\n",
    "\n",
    "Given an integer,N , perform the following conditional actions:\n",
    "\n",
    "If n is odd, print Weird\n",
    "If n is even and in the inclusive range of 2 to5 , print Not Weird\n",
    "If n is even and in the inclusive range of 6 to 20, print Weird\n",
    "If n is even and greater than 20 , print Not Weird\n",
    "Input Format\n",
    "\n",
    "A single line containing a positive integer,n .\n",
    "\n",
    "## Constraints\n",
    "\n",
    "1 <= N <= 100\n",
    "\n",
    "### Output Format\n",
    "\n",
    "Print Weird if the number is weird. Otherwise, print Not Weird.\n",
    "\n",
    "#### Sample Input 0\n",
    "\n",
    "3\n",
    "\n",
    "#### Sample Output 0\n",
    "\n",
    "Weird\n",
    "\n",
    "#### Explanation 1\n",
    "n = 24\n",
    "n>20 and n is even, so it is not weird.\n",
    "\n"
   ]
  },
  {
   "cell_type": "code",
   "execution_count": 1,
   "id": "2da0b425",
   "metadata": {},
   "outputs": [
    {
     "name": "stdout",
     "output_type": "stream",
     "text": [
      "24\n",
      "Not Weird\n"
     ]
    }
   ],
   "source": [
    "import math\n",
    "import os\n",
    "import random\n",
    "import re\n",
    "import sys\n",
    "\n",
    "\n",
    "\n",
    "if __name__ == '__main__':\n",
    "    n = int(input().strip())\n",
    "    \n",
    "    \n",
    "    if (((n in range (6, 21)) and (n %2 ==0)) or (n % 2 != 0)):\n",
    "        \n",
    "        print (\"Weird\")\n",
    "        \n",
    "    elif (((n in range (2, 6)) and (n %2 == 0)) or ((n > 20) and (n % 2 == 0)) ) :\n",
    "         \n",
    "         print(\"Not Weird\")\n"
   ]
  }
 ],
 "metadata": {
  "kernelspec": {
   "display_name": "Python 3",
   "language": "python",
   "name": "python3"
  },
  "language_info": {
   "codemirror_mode": {
    "name": "ipython",
    "version": 3
   },
   "file_extension": ".py",
   "mimetype": "text/x-python",
   "name": "python",
   "nbconvert_exporter": "python",
   "pygments_lexer": "ipython3",
   "version": "3.8.8"
  }
 },
 "nbformat": 4,
 "nbformat_minor": 5
}
