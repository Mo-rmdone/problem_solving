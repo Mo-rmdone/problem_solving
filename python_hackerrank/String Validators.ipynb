{
 "cells": [
  {
   "cell_type": "markdown",
   "id": "8e721313",
   "metadata": {},
   "source": [
    "Python has built-in string validation methods for basic data. It can check if a string is composed of alphabetical characters, alphanumeric characters, digits, etc.\n",
    "\n",
    "**str.isalnum()**\n",
    "\n",
    "This method checks if all the characters of a string are alphanumeric (a-z, A-Z and 0-9).\n",
    "\n",
    "**str.isalpha()**\n",
    "\n",
    "This method checks if all the characters of a string are alphabetical (a-z and A-Z).\n",
    "\n",
    "**str.isdigit()**\n",
    "\n",
    "This method checks if all the characters of a string are digits (0-9).\n",
    "\n",
    "**str.islower()**\n",
    "\n",
    "This method checks if all the characters of a string are lowercase characters (a-z).\n",
    "\n",
    "**str.isupper()**\n",
    "\n",
    "This method checks if all the characters of a string are uppercase characters (A-Z).\n",
    "\n",
    "# Task\n",
    "\n",
    "You are given a string ***S*** .\n",
    "Your task is to find out if the string ***S*** contains: alphanumeric characters, alphabetical characters, digits, lowercase and uppercase characters.\n",
    "\n",
    "## Input Format\n",
    "\n",
    "A single line containing a string ***S***.\n",
    "\n",
    "## Output Format\n",
    "\n",
    "In the first line, print True if ***S*** has any alphanumeric characters. Otherwise, print False.\n",
    "\n",
    "In the second line, print True if ***S*** has any alphabetical characters. Otherwise, print False.\n",
    "\n",
    "In the third line, print True if ***S*** has any digits. Otherwise, print False.\n",
    "\n",
    "In the fourth line, print True if ***S*** has any lowercase characters. Otherwise, print False.\n",
    "\n",
    "In the fifth line, print True if ***S*** has any uppercase characters. Otherwise, print False.\n",
    "\n",
    "\n",
    "### Sample Input\n",
    "\n",
    "\n",
    "qA2\n",
    "\n",
    "\n",
    "### Sample Output\n",
    "\n",
    "True \n",
    "\n",
    "True\n",
    "\n",
    "True\n",
    "\n",
    "True\n",
    "\n",
    "True\n",
    "\n"
   ]
  },
  {
   "cell_type": "code",
   "execution_count": null,
   "id": "cf9a03a3",
   "metadata": {},
   "outputs": [],
   "source": [
    "s = input()\n",
    "print(any([char.isalnum() for char in s]))\n",
    "print(any([char.isalpha() for char in s]))\n",
    "print(any([char.isdigit() for char in s]))\n",
    "print(any([char.islower() for char in s]))\n",
    "print(any([char.isupper() for char in s]))\n"
   ]
  }
 ],
 "metadata": {
  "kernelspec": {
   "display_name": "Python 3",
   "language": "python",
   "name": "python3"
  },
  "language_info": {
   "codemirror_mode": {
    "name": "ipython",
    "version": 3
   },
   "file_extension": ".py",
   "mimetype": "text/x-python",
   "name": "python",
   "nbconvert_exporter": "python",
   "pygments_lexer": "ipython3",
   "version": "3.8.8"
  }
 },
 "nbformat": 4,
 "nbformat_minor": 5
}
