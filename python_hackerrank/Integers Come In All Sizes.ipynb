{
 "cells": [
  {
   "cell_type": "markdown",
   "id": "79e90680",
   "metadata": {},
   "source": [
    "Integers in Python can be as big as the bytes in your machine's memory. There is no limit in size as there is: $2^{32} - 1$ \n",
    "\n",
    "(c++ int) or $2^{64} - 1$ (C++ long long int).\n",
    "\n",
    "As we know, $a^b$ the result of  grows really fast with increasing  $b$.\n",
    "\n",
    "Let's do some calculations on very large integers.\n",
    "\n",
    "# Task\n",
    "\n",
    "Read four numbers $a,b ,c,$ and  $d,$ and print the result of $a^b$ + $c^d$.\n",
    "\n",
    "## Constraints\n",
    "\n",
    "$1 \\leqslant a \\leqslant 1000 $\n",
    "\n",
    "$1 \\leqslant b \\leqslant 1000 $\n",
    "\n",
    "$1 \\leqslant c \\leqslant 1000 $\n",
    "\n",
    "$1 \\leqslant d\\leqslant 1000 $\n",
    "\n",
    "## Output Format\n",
    "\n",
    "Print the result of  $a^b$ + $c^d$ on one line.\n",
    "\n",
    "### Sample Input\n",
    "\n",
    "9\n",
    "\n",
    "29\n",
    "\n",
    "7\n",
    "\n",
    "27\n",
    "\n",
    "### Sample Output\n",
    "\n",
    "\n",
    " 4710194409608608369201743232  \n",
    "\n",
    "\n",
    "\n",
    "\n",
    "\n",
    "\n",
    "\n",
    "\n",
    "\n",
    "\n"
   ]
  },
  {
   "cell_type": "code",
   "execution_count": 1,
   "id": "7bf58091",
   "metadata": {},
   "outputs": [
    {
     "name": "stdout",
     "output_type": "stream",
     "text": [
      "9\n",
      "29\n",
      "7\n",
      "27\n",
      "4710194409608608369201743232\n"
     ]
    }
   ],
   "source": [
    " a,b,c,d= int(input()),int(input()),int(input()),int(input())\n",
    "print(pow(a,b) + pow (c,d))\n"
   ]
  }
 ],
 "metadata": {
  "kernelspec": {
   "display_name": "Python 3",
   "language": "python",
   "name": "python3"
  },
  "language_info": {
   "codemirror_mode": {
    "name": "ipython",
    "version": 3
   },
   "file_extension": ".py",
   "mimetype": "text/x-python",
   "name": "python",
   "nbconvert_exporter": "python",
   "pygments_lexer": "ipython3",
   "version": "3.8.8"
  }
 },
 "nbformat": 4,
 "nbformat_minor": 5
}
