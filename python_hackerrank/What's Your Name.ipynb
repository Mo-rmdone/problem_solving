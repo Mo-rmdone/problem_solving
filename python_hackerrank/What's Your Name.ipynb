{
 "cells": [
  {
   "cell_type": "markdown",
   "id": "aedc8765",
   "metadata": {},
   "source": [
    "# Function Description\n",
    "\n",
    "Complete the print_full_name function in the editor below.\n",
    "\n",
    "print_full_name has the following parameters:\n",
    "\n",
    "- string first: the first name\n",
    "- string last: the last name\n",
    "\n",
    "## Input Format\n",
    "\n",
    "The first line contains the first name, and the second line contains the last name.\n",
    "\n",
    "### Sample Input 0\n",
    "\n",
    "Ross\n",
    "\n",
    "Taylor\n",
    "\n",
    "\n",
    "### Sample Output 0\n",
    "\n",
    "\n",
    "Hello Ross Taylor! You just delved into python.\n",
    "\n",
    "\n",
    "#### Explanation 0\n",
    "\n",
    "\n",
    "The input read by the program is stored as a string data type. A string is a collection of characters."
   ]
  },
  {
   "cell_type": "code",
   "execution_count": null,
   "id": "ea67ba55",
   "metadata": {},
   "outputs": [],
   "source": [
    "def print_full_name(first, last):\n",
    "    print(\"Hello \"+first+ \" \"+ last + \"! You just delved into python.\")\n"
   ]
  }
 ],
 "metadata": {
  "kernelspec": {
   "display_name": "Python 3",
   "language": "python",
   "name": "python3"
  },
  "language_info": {
   "codemirror_mode": {
    "name": "ipython",
    "version": 3
   },
   "file_extension": ".py",
   "mimetype": "text/x-python",
   "name": "python",
   "nbconvert_exporter": "python",
   "pygments_lexer": "ipython3",
   "version": "3.8.8"
  }
 },
 "nbformat": 4,
 "nbformat_minor": 5
}
