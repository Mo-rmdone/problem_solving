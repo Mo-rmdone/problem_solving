{
 "cells": [
  {
   "cell_type": "markdown",
   "id": "585e6e5b",
   "metadata": {},
   "source": [
    "# Task : Loops\n",
    " \n",
    " he provided code stub reads and integer, n , from STDIN. For all non-negative integers i<n, print i^2\n",
    " \n",
    " \n",
    " \n",
    "**Example**\n",
    "\n",
    "\n",
    "**n = 3**\n",
    "\n",
    "The list of non-negative integers that are less than  n = 3 is [0,1 , 2 ] . Print the square of each number on a separate line.\n",
    "\n",
    "\n",
    "\n",
    "\n",
    "**Print:**\n",
    "\n",
    "- 0\n",
    "- 1\n",
    "- 4\n",
    "\n",
    "\n",
    "**Input Format**\n",
    "The first and only line contains the integer, n. \n",
    "\n",
    "\n",
    "**Constraints:** \n",
    "\n",
    "\n",
    "1 < n < 20 \n",
    "\n",
    "\n",
    "\n",
    "**Output Format :**\n",
    "\n",
    "Print  lines n, one corresponding to each i . \n",
    "\n",
    "**Sample Input 0**\n",
    "\n",
    "\n",
    "5\n",
    "\n",
    "**Sample Output 0**\n",
    "\n",
    "\n",
    "\n",
    "0\n",
    "\n",
    "\n",
    "\n",
    "1\n",
    "\n",
    "\n",
    "4\n",
    "\n",
    "\n",
    "9\n",
    "\n",
    "\n",
    "16\n",
    "\n",
    "\n"
   ]
  },
  {
   "cell_type": "code",
   "execution_count": null,
   "id": "c35bee86",
   "metadata": {},
   "outputs": [],
   "source": [
    "n = int(input(\"Enter the target\"))\n",
    "for x in range (0,n) :\n",
    "   r = x * x \n",
    "   print(r) "
   ]
  }
 ],
 "metadata": {
  "kernelspec": {
   "display_name": "Python 3",
   "language": "python",
   "name": "python3"
  },
  "language_info": {
   "codemirror_mode": {
    "name": "ipython",
    "version": 3
   },
   "file_extension": ".py",
   "mimetype": "text/x-python",
   "name": "python",
   "nbconvert_exporter": "python",
   "pygments_lexer": "ipython3",
   "version": "3.8.8"
  }
 },
 "nbformat": 4,
 "nbformat_minor": 5
}
