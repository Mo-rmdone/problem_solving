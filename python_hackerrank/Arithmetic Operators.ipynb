{
 "cells": [
  {
   "cell_type": "markdown",
   "id": "cc44d0df",
   "metadata": {},
   "source": [
    "# Task\n",
    "\n",
    "\n",
    "The provided code stub reads two integers from STDIN, a and b . Add code to print three lines where:\n",
    "\n",
    "1. The first line contains the sum of the two numbers.\n",
    "2. The second line contains the difference of the two numbers (first - second).\n",
    "3. The third line contains the product of the two numbers.\n",
    "\n",
    "\n",
    "## Example\n",
    "\n",
    " a= 3 \n",
    " b= 5\n",
    " \n",
    "**Print the following:**\n",
    "\n",
    "8\n",
    "-2\n",
    "15\n",
    "\n",
    "\n",
    "\n",
    "### Input Format\n",
    "\n",
    "The first line contains the first integer,a .\n",
    "The second line contains the second integer, b .\n",
    "\n",
    "\n",
    "### Output Format\n",
    "\n",
    "Print the three lines as explained above.\n",
    "\n",
    "### Sample Input 0\n",
    "\n",
    "3\n",
    "\n",
    "2\n",
    "\n",
    "### Sample Output 0\n",
    "\n",
    "5\n",
    "\n",
    "1\n",
    "\n",
    "6\n"
   ]
  },
  {
   "cell_type": "code",
   "execution_count": null,
   "id": "fcf90ce6",
   "metadata": {},
   "outputs": [],
   "source": [
    "    a = int(raw_input())\n",
    "    b = int(raw_input())\n",
    "    print(a+b)\n",
    "    print(a-b)\n",
    "    print(a*b"
   ]
  }
 ],
 "metadata": {
  "kernelspec": {
   "display_name": "Python 3",
   "language": "python",
   "name": "python3"
  },
  "language_info": {
   "codemirror_mode": {
    "name": "ipython",
    "version": 3
   },
   "file_extension": ".py",
   "mimetype": "text/x-python",
   "name": "python",
   "nbconvert_exporter": "python",
   "pygments_lexer": "ipython3",
   "version": "3.8.8"
  }
 },
 "nbformat": 4,
 "nbformat_minor": 5
}
